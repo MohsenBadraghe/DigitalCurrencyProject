{
 "cells": [
  {
   "cell_type": "markdown",
   "id": "856dd0b2",
   "metadata": {},
   "source": [
    "<h1>Database</h1>"
   ]
  },
  {
   "cell_type": "code",
   "execution_count": 71,
   "id": "3c0e560d",
   "metadata": {},
   "outputs": [],
   "source": [
    "# Libraries to install in the case of need\n",
    "\n",
    "#!pip install sqlalchemy\n",
    "#!pip install pymysql\n",
    "#!pip install sqlalchemy-utils"
   ]
  },
  {
   "cell_type": "code",
   "execution_count": 4,
   "id": "1d728cc2",
   "metadata": {},
   "outputs": [],
   "source": [
    "import pandas as pd\n",
    "import os\n",
    "from sqlalchemy import create_engine,ForeignKey, MetaData, Table, Column, Integer, String,DECIMAL,TIMESTAMP,Insert,DateTime\n",
    "from sqlalchemy_utils import create_database, database_exists\n",
    "from sqlalchemy.ext.declarative import declarative_base\n",
    "from sqlalchemy.orm import Session"
   ]
  },
  {
   "cell_type": "markdown",
   "id": "d64c05b5",
   "metadata": {},
   "source": [
    "<h4>Connect and Create Database<h4>"
   ]
  },
  {
   "cell_type": "code",
   "execution_count": 3,
   "id": "57a1a41c",
   "metadata": {},
   "outputs": [],
   "source": [
    "# Params to build Connection String\n",
    "user = 'root'\n",
    "password = 'admin'\n",
    "host = 'localhost'\n",
    "port = 3306\n",
    "database = 'DigitalCurrency'\n",
    "# Connection String\n",
    "url = \"mysql+pymysql://{0}:{1}@{2}:{3}/{4}\".format(\n",
    "\t\t\tuser, password, host, port,database\n",
    "\t\t)\n",
    "# CONNECT TO THE MYSQL DATABASE \n",
    "engine = create_engine(\n",
    "\t\turl=\"mysql+pymysql://{0}:{1}@{2}:{3}/{4}\".format(\n",
    "\t\t\tuser, password, host, port,database\n",
    "\t\t))\n",
    "# Create DB if not exists\n",
    "if not database_exists(url):\n",
    "    create_database(url)"
   ]
  },
  {
   "cell_type": "code",
   "execution_count": 4,
   "id": "1f4e681e",
   "metadata": {},
   "outputs": [
    {
     "name": "stderr",
     "output_type": "stream",
     "text": [
      "C:\\Users\\Mohsen\\AppData\\Local\\Temp\\ipykernel_20416\\3775690541.py:2: MovedIn20Warning: The ``declarative_base()`` function is now available as sqlalchemy.orm.declarative_base(). (deprecated since: 2.0) (Background on SQLAlchemy 2.0 at: https://sqlalche.me/e/b8d9)\n",
      "  Base = declarative_base()\n"
     ]
    }
   ],
   "source": [
    "# Define Tables by declarative base method\n",
    "meta = MetaData()\n",
    "Base = declarative_base()\n",
    "\n",
    "class Currency(Base):\n",
    "   __tablename__ = 'Currency'\n",
    "\n",
    "   CurrencyId = Column(Integer, primary_key = True, autoincrement = True, nullable = False)\n",
    "   Name = Column(String(250),nullable=False)\n",
    "   Symbol = Column(String(250))\n",
    "   Rank = Column(Integer)\n",
    "   MainLink = Column(String(250))\n",
    "   HistoricalLink = Column(String(250))\n",
    "   GithubLink = Column(String(250))\n",
    "\n",
    "class Tag(Base):\n",
    "   __tablename__ = 'Tag'\n",
    "\n",
    "   TagId = Column(Integer, primary_key = True, autoincrement = True, nullable = False)\n",
    "   Name = Column(String(250),nullable=False)\n",
    "   \n",
    "\n",
    "class CurrencyTag(Base):\n",
    "   __tablename__ = 'CurrencyTag'\n",
    "\n",
    "   CurrencyTagId = Column(Integer, primary_key = True, autoincrement = True, nullable = False)\n",
    "   TagId = Column(Integer,ForeignKey('Tag.TagId'),nullable=False)\n",
    "   CurrencyId = Column(Integer,ForeignKey('Currency.CurrencyId'),nullable=False)\n",
    "\n",
    "\n",
    "class CurrencyData(Base):\n",
    "   __tablename__ = 'CurrencyData'\n",
    "\n",
    "   CurrencyDataId = Column(Integer, primary_key = True, autoincrement = True, nullable = False)\n",
    "   CurrencyId = Column(Integer,ForeignKey('Currency.CurrencyId'),nullable=False)\n",
    "   TimeOpen = Column(DateTime)\n",
    "   TimeClose = Column(DateTime)\n",
    "   TimeHigh = Column(DateTime)\n",
    "   TimeLow = Column(DateTime)\n",
    "   Open = Column(DECIMAL(20,14))\n",
    "   High = Column(DECIMAL(20,14))\n",
    "   Low = Column(DECIMAL(20,14))\n",
    "   Close = Column(DECIMAL(20,14))\n",
    "   Volume = Column(DECIMAL(18,4))\n",
    "   MarketCap = Column(DECIMAL(18,4))\n",
    "\n",
    "\n",
    "\n",
    "class Language(Base):\n",
    "   __tablename__ = 'Language'\n",
    "\n",
    "   LanguageId = Column(Integer, primary_key = True, autoincrement = True, nullable = False)\n",
    "   Name = Column(String(250),nullable=False)\n",
    "   \n",
    "\n",
    "class CurrencyLanguage(Base):\n",
    "   __tablename__ = 'CurrencyLanguage'\n",
    "\n",
    "   CurrencyLanguageId = Column(Integer, primary_key = True, autoincrement = True, nullable = False)\n",
    "   LanguageId = Column(Integer,ForeignKey('Language.LanguageId'),nullable=False)\n",
    "   CurrencyId = Column(Integer,ForeignKey('Currency.CurrencyId'),nullable=False)   \n",
    "\n",
    "\n",
    "class CurrencyContributor(Base):\n",
    "   __tablename__ = 'CurrencyContributor'\n",
    "\n",
    "   CurrencyContributorId = Column(Integer, primary_key = True, autoincrement = True, nullable = False)\n",
    "   CurrencyId = Column(Integer,ForeignKey('Currency.CurrencyId'),nullable=False)   \n",
    "   Contributor = Column(String(250))\n",
    "\n",
    "# Create Tables\n",
    "Base.metadata.create_all(engine)\n",
    "   "
   ]
  },
  {
   "cell_type": "markdown",
   "id": "5cde8165",
   "metadata": {},
   "source": [
    "<h4>Read and Insert Data<h4>"
   ]
  },
  {
   "cell_type": "code",
   "execution_count": 30,
   "metadata": {},
   "outputs": [],
   "source": [
    "# Get and build url to read data from Scraping Section\n",
    "base_url = os.getcwd().split('DatabaseSection')[0]\n",
    "data_base_url = base_url + 'ScrapingSection\\\\'"
   ]
  },
  {
   "cell_type": "code",
   "execution_count": 31,
   "id": "7730152f",
   "metadata": {},
   "outputs": [],
   "source": [
    "# Read currencies & fill nan values\n",
    "currencies = pd.read_csv(data_base_url + 'ScrapedData\\\\FirstTable.csv')\n",
    "currencies['GitHubLink'].fillna('',inplace=True)"
   ]
  },
  {
   "cell_type": "code",
   "execution_count": 7,
   "id": "336614f4",
   "metadata": {},
   "outputs": [],
   "source": [
    "# Insert Currencies To DB\n",
    "session = Session(engine)\n",
    "for i in range(len(currencies)):\n",
    "  session.add(Currency(Name=currencies.loc[i][1], Symbol=currencies.loc[i][2],\n",
    "            Rank=(currencies.loc[i][0] + 1), MainLink=currencies.loc[i][3],\n",
    "              HistoricalLink=currencies.loc[i][4], GithubLink=currencies.loc[i][5]))\n",
    "session.commit()"
   ]
  },
  {
   "cell_type": "code",
   "execution_count": 8,
   "id": "5e314278",
   "metadata": {},
   "outputs": [],
   "source": [
    "# build file's prefix and sufix url that we'll use to read currencies's data\n",
    "prefix_url = data_base_url + 'ScrapedData\\\\HistoricalData\\\\'\n",
    "suffix_url = '_8_25_2022-8_25_2023_historical_data_coinmarketcap.csv'\n",
    "\n",
    "# Insert Currencies's Data To DB\n",
    "session = Session(engine)\n",
    "for j in range(len(currencies)):\n",
    "    curr_name = currencies.loc[j][1]\n",
    "    data = pd.read_csv(prefix_url + curr_name + suffix_url,sep=';')\n",
    "    # Get CurrencyId from DB\n",
    "    curr_id = session.query(Currency).filter(Currency.Name == curr_name).first().CurrencyId\n",
    "    for i in range(len(data)):\n",
    "        session.add(CurrencyData(CurrencyId = curr_id\n",
    "                                , TimeOpen = pd.to_datetime(data.loc[i][0].replace('T',' ').split('.')[0])\n",
    "                                , TimeClose = pd.to_datetime(data.loc[i][1].replace('T',' ').split('.')[0])\n",
    "                                , TimeHigh = pd.to_datetime(data.loc[i][2].replace('T',' ').split('.')[0])\n",
    "                                , TimeLow = pd.to_datetime(data.loc[i][3].replace('T',' ').split('.')[0])\n",
    "                                , Open = data.loc[i][4]\n",
    "                                , High = data.loc[i][5]\n",
    "                                , Low = data.loc[i][6]\n",
    "                                , Close = data.loc[i][7]\n",
    "                                , Volume = data.loc[i][8]\n",
    "                                , MarketCap = data.loc[i][9]))\n",
    "session.commit()"
   ]
  },
  {
   "cell_type": "code",
   "execution_count": 32,
   "id": "a818e72d",
   "metadata": {},
   "outputs": [],
   "source": [
    "# Read Tags\n",
    "tags = pd.read_csv(data_base_url + 'ScrapedData\\\\Tags.csv')"
   ]
  },
  {
   "cell_type": "code",
   "execution_count": null,
   "id": "4d484e77",
   "metadata": {},
   "outputs": [],
   "source": [
    "# Get unique tags for tag table\n",
    "tag_names = tags['Tag'].unique()\n",
    "# Insert tags to DB\n",
    "session = Session(engine)\n",
    "for i in range(len(tag_names)):\n",
    "    session.add(Tag(Name=tag_names[i]))\n",
    "session.commit()"
   ]
  },
  {
   "cell_type": "code",
   "execution_count": 10,
   "id": "cc1ef500",
   "metadata": {},
   "outputs": [],
   "source": [
    "# Insert Currency Tags to DB\n",
    "session = Session(engine)\n",
    "\n",
    "for i in range(len(tags)):\n",
    "    tag_name = tags.loc[i]['Tag']\n",
    "    # Get TagId from DB\n",
    "    tag_id = session.query(Tag).filter(Tag.Name == tag_name).first().TagId\n",
    "    session.add(CurrencyTag(TagId = tag_id,CurrencyId = tags.loc[i]['CurrencyId']))\n",
    "    \n",
    "session.commit()"
   ]
  },
  {
   "cell_type": "code",
   "execution_count": 5,
   "id": "67335345",
   "metadata": {},
   "outputs": [],
   "source": [
    "# Read CurrencyLanguages Data from csv\n",
    "languages_data = pd.read_csv(data_base_url + 'ScrapedData\\\\CurrencyLanguages.csv')"
   ]
  },
  {
   "cell_type": "code",
   "execution_count": 236,
   "id": "c1c3cf4b",
   "metadata": {},
   "outputs": [],
   "source": [
    "# Get Unique Languages\n",
    "unique_languages = languages_data['Language'].unique()\n",
    "# Insert Languages To DB\n",
    "session = Session(engine)\n",
    "for i in range(len(unique_languages)):\n",
    "    session.add(Language(Name=unique_languages[i]))\n",
    "session.commit()"
   ]
  },
  {
   "cell_type": "code",
   "execution_count": 6,
   "id": "34f7c10b",
   "metadata": {},
   "outputs": [],
   "source": [
    "# Insert Currency Languages To DB\n",
    "session = Session(engine)\n",
    "for i in range(len(languages_data)):\n",
    "    # Get LanguageId from DB\n",
    "    lang_name = languages_data.loc[i]['Language']\n",
    "    lang_id = session.query(Language).filter(Language.Name == lang_name).first().LanguageId\n",
    "    session.add(CurrencyLanguage(LanguageId = lang_id, CurrencyId = languages_data.loc[i]['CurrencyId']))\n",
    "session.commit()"
   ]
  },
  {
   "cell_type": "code",
   "execution_count": 7,
   "id": "b392fc18",
   "metadata": {},
   "outputs": [],
   "source": [
    "# Read CurrencyContributors Data from csv\n",
    "contributors_data = pd.read_csv(data_base_url + 'ScrapedData\\\\CurrencyContributors.csv')"
   ]
  },
  {
   "cell_type": "code",
   "execution_count": 8,
   "id": "767c5a44",
   "metadata": {},
   "outputs": [],
   "source": [
    "# Insert Currency Contributors To DB\n",
    "session = Session(engine)\n",
    "for i in range(len(contributors_data)):\n",
    "    session.add(CurrencyContributor(CurrencyId = contributors_data.loc[i]['CurrencyId']\n",
    "                                    ,Contributor = contributors_data.loc[i]['Contributor']))\n",
    "session.commit()"
   ]
  }
 ],
 "metadata": {
  "kernelspec": {
   "display_name": "Python 3 (ipykernel)",
   "language": "python",
   "name": "python3"
  },
  "language_info": {
   "codemirror_mode": {
    "name": "ipython",
    "version": 3
   },
   "file_extension": ".py",
   "mimetype": "text/x-python",
   "name": "python",
   "nbconvert_exporter": "python",
   "pygments_lexer": "ipython3",
   "version": "3.9.17"
  }
 },
 "nbformat": 4,
 "nbformat_minor": 5
}
