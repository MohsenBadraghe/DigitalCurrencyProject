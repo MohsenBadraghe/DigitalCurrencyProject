{
  "cells": [
    {
      "cell_type": "code",
      "execution_count": 1,
      "id": "cbf5b99f",
      "metadata": {
        "id": "cbf5b99f"
      },
      "outputs": [],
      "source": [
        "import requests\n",
        "from bs4 import BeautifulSoup\n",
        "import pandas as pd\n",
        "from time import sleep"
      ]
    },
    {
      "cell_type": "markdown",
      "id": "86660d53-da8e-48ea-92c6-fc7ea2a51aee",
      "metadata": {
        "id": "86660d53-da8e-48ea-92c6-fc7ea2a51aee"
      },
      "source": [
        "<h1>Finding 200 top coins and creating first table</h1>\n"
      ]
    },
    {
      "cell_type": "code",
      "execution_count": 2,
      "id": "f95c55d7-9ede-49fa-9084-722fe0a1c2a0",
      "metadata": {
        "id": "f95c55d7-9ede-49fa-9084-722fe0a1c2a0"
      },
      "outputs": [],
      "source": [
        "def HtmlParser(url):\n",
        "    import requests\n",
        "    from bs4 import BeautifulSoup\n",
        "    page = requests.get(url)\n",
        "    bs = BeautifulSoup(page.content, 'html.parser')\n",
        "    return bs"
      ]
    },
    {
      "cell_type": "code",
      "execution_count": 3,
      "id": "054a7b85",
      "metadata": {
        "id": "054a7b85"
      },
      "outputs": [],
      "source": [
        "#finding the coins on the specified day by url\n",
        "\n",
        "soup = HtmlParser(\"https://coinmarketcap.com/historical/20230825/\")\n",
        "soup.body.prettify()\n",
        "#all the rows of page\n",
        "AllRows = soup.find_all('tr')\n",
        "MainLinks = []\n",
        "Titles = []\n",
        "for i in range(3 , 203):\n",
        "  cur = AllRows[i].find('a')\n",
        "    #first link allways is coin main link\n",
        "  MainLinks.append(f\"https://coinmarketcap.com{cur['href']}\")\n",
        "    #some coins have title tag and for others which don't the title is written on first content\n",
        "  try:\n",
        "    Titles.append(cur['title'])\n",
        "  except:\n",
        "    Titles.append(cur.contents[0])\n",
        "SymBols = []\n",
        "HystLinks = []\n",
        "for i in range(0 , 200):\n",
        "  url = MainLinks[i]\n",
        "  bs = HtmlParser(url)\n",
        "    #finding symbol based on html pattern\n",
        "  SymBols.append(bs.find('span' , {'data-role':\"coin-symbol\"}).contents[0])\n",
        "  txt = str(bs)\n",
        "  pos = txt.find(\"See historical\")\n",
        "    #search for historical data on the entire content of the page\n",
        "  LinkTxt = txt[pos-200:pos]\n",
        "  pos2 = LinkTxt.find(\"href\")\n",
        "    #the link attached to \"historical data is written somewhere before\n",
        "    #200 chars is enough and 100 chars is not for example\n",
        "  Hlink = LinkTxt[pos2 + 6:]\n",
        "  Hlink = Hlink[ : Hlink.find(\" \") - 1]\n",
        "    #historical data link starts exactly 6 chars after href and ends after \" and an space\n",
        "  HystLinks.append( f\"https://coinmarketcap.com{Hlink}\" )"
      ]
    },
    {
      "cell_type": "code",
      "execution_count": 4,
      "id": "88271f00-33df-48f9-be7a-4b2914c3ca7e",
      "metadata": {
        "id": "88271f00-33df-48f9-be7a-4b2914c3ca7e"
      },
      "outputs": [],
      "source": [
        "GitHubLinks = []\n",
        "for i in range(0 , 200):\n",
        "  url = MainLinks[i]\n",
        "  bs = HtmlParser(url)\n",
        "  txt = str(bs)\n",
        "   #search for github in page\n",
        "  pos = txt.find(\"github.com\")\n",
        "  txt2 = txt[pos:]\n",
        "    #some links end in ) and some in \"\n",
        "  pos2 = txt2.find('\"')\n",
        "  pos3 = txt2.find(')')\n",
        "  pos2 = min(pos2 , pos3)\n",
        "  gitlink = txt2[:pos2]\n",
        "  GitHubLinks.append(gitlink)"
      ]
    },
    {
      "cell_type": "code",
      "execution_count": 5,
      "id": "a16fef97-c6c8-4c3d-b0d8-54c5572c9948",
      "metadata": {
        "id": "a16fef97-c6c8-4c3d-b0d8-54c5572c9948"
      },
      "outputs": [],
      "source": [
        "df = pd.DataFrame(list(zip(Titles, SymBols , MainLinks , HystLinks , GitHubLinks )),\n",
        "               columns =['Name', 'Symbol' , 'MainLink' , 'HistoricalLink' , 'GitHubLink'])\n",
        "df.to_csv(\"FirstTable.csv\")"
      ]
    },
    {
      "cell_type": "code",
      "execution_count": null,
      "id": "74292152-05fe-4c34-87b8-d64cf4e59978",
      "metadata": {
        "id": "74292152-05fe-4c34-87b8-d64cf4e59978"
      },
      "outputs": [],
      "source": [
        "Tags = []\n",
        "for i in range(0 , 200):\n",
        "  url = MainLinks[i]\n",
        "  bs = HtmlParser(url)\n",
        "    #find tags based on html\n",
        "  temp = bs.find_all('div' , {'class' : \"sc-16891c57-0 sc-b7faf77f-0 jaPKUl\"})\n",
        "  taglist = []\n",
        "    # no tag\n",
        "  if len(temp) < 1:\n",
        "    Tags.append(taglist)\n",
        "    continue\n",
        "  for x in temp[0]:\n",
        "    taglist.append(x.text)\n",
        "    #the last one is not a tag name and it's common in all coins\n",
        "  taglist.pop()\n",
        "  Tags.append(taglist)"
      ]
    },
    {
      "cell_type": "markdown",
      "id": "2d2eda5c-f13b-4545-bf99-3f82bc38013e",
      "metadata": {
        "id": "2d2eda5c-f13b-4545-bf99-3f82bc38013e"
      },
      "source": [
        "<h1>finding last year data for each coin based on crawled historical links</h1>"
      ]
    },
    {
      "cell_type": "code",
      "execution_count": null,
      "id": "7da149bf",
      "metadata": {
        "id": "7da149bf"
      },
      "outputs": [],
      "source": [
        "from selenium import webdriver\n",
        "from selenium.webdriver.common.keys import Keys\n",
        "from selenium.webdriver.common.by import By\n",
        "from selenium.webdriver.support.wait import WebDriverWait\n",
        "from selenium.webdriver.support import expected_conditions as EC\n",
        "driver = webdriver.Chrome()\n",
        "driver.maximize_window()\n",
        "wait = WebDriverWait(driver, 10)\n",
        "sleeptime = 1"
      ]
    },
    {
      "cell_type": "code",
      "execution_count": null,
      "id": "59b752f3",
      "metadata": {
        "id": "59b752f3"
      },
      "outputs": [],
      "source": [
        "#reading data from pre created csv from previous part dataframe to don't run the previous part every time\n",
        "df = pd.read_csv(\"FirstTable.csv\")\n",
        "df = df['HistoricalLink']"
      ]
    },
    {
      "cell_type": "code",
      "execution_count": null,
      "id": "d4f7e73f",
      "metadata": {
        "id": "d4f7e73f",
        "outputId": "bc89b0a5-1a66-43e1-bfe6-7e67eae3cf03"
      },
      "outputs": [
        {
          "ename": "NoSuchWindowException",
          "evalue": "Message: no such window: target window already closed\nfrom unknown error: web view not found\n  (Session info: chrome=116.0.5845.180)\nStacktrace:\n\tGetHandleVerifier [0x00007FF6066352A2+57122]\n\t(No symbol) [0x00007FF6065AEA92]\n\t(No symbol) [0x00007FF60647E3AB]\n\t(No symbol) [0x00007FF60645E1B9]\n\t(No symbol) [0x00007FF6064DB417]\n\t(No symbol) [0x00007FF6064EE24F]\n\t(No symbol) [0x00007FF6064D6DB3]\n\t(No symbol) [0x00007FF6064AD2B1]\n\t(No symbol) [0x00007FF6064AE494]\n\tGetHandleVerifier [0x00007FF6068DEF82+2849794]\n\tGetHandleVerifier [0x00007FF606931D24+3189156]\n\tGetHandleVerifier [0x00007FF60692ACAF+3160367]\n\tGetHandleVerifier [0x00007FF6066C6D06+653702]\n\t(No symbol) [0x00007FF6065BA208]\n\t(No symbol) [0x00007FF6065B62C4]\n\t(No symbol) [0x00007FF6065B63F6]\n\t(No symbol) [0x00007FF6065A67A3]\n\tBaseThreadInitThunk [0x00007FFDC30F7C24+20]\n\tRtlUserThreadStart [0x00007FFDC384D721+33]\n",
          "output_type": "error",
          "traceback": [
            "\u001b[1;31m---------------------------------------------------------------------------\u001b[0m",
            "\u001b[1;31mNoSuchWindowException\u001b[0m                     Traceback (most recent call last)",
            "Cell \u001b[1;32mIn[5], line 2\u001b[0m\n\u001b[0;32m      1\u001b[0m \u001b[38;5;28;01mfor\u001b[39;00m url \u001b[38;5;129;01min\u001b[39;00m df:\n\u001b[1;32m----> 2\u001b[0m     \u001b[43mdriver\u001b[49m\u001b[38;5;241;43m.\u001b[39;49m\u001b[43mget\u001b[49m\u001b[43m(\u001b[49m\u001b[43murl\u001b[49m\u001b[43m)\u001b[49m\n\u001b[0;32m      3\u001b[0m     wait\u001b[38;5;241m.\u001b[39muntil(EC\u001b[38;5;241m.\u001b[39melement_to_be_clickable((By\u001b[38;5;241m.\u001b[39mXPATH, \u001b[38;5;124m'\u001b[39m\u001b[38;5;124m//*[@id=\u001b[39m\u001b[38;5;124m\"\u001b[39m\u001b[38;5;124m__next\u001b[39m\u001b[38;5;124m\"\u001b[39m\u001b[38;5;124m]/div[2]/div[1]/div[2]/div/div/div/div[2]/div/div[1]/div/button[1]\u001b[39m\u001b[38;5;124m'\u001b[39m)))\u001b[38;5;241m.\u001b[39mclick()\n\u001b[0;32m      4\u001b[0m     wait\u001b[38;5;241m.\u001b[39muntil(EC\u001b[38;5;241m.\u001b[39melement_to_be_clickable((By\u001b[38;5;241m.\u001b[39mXPATH, \u001b[38;5;124m'\u001b[39m\u001b[38;5;124m//*[@id=\u001b[39m\u001b[38;5;124m\"\u001b[39m\u001b[38;5;124mtippy-1\u001b[39m\u001b[38;5;124m\"\u001b[39m\u001b[38;5;124m]/div/div[1]/div/div/div[1]/div[1]/div/div/div[2]/div[1]/div[1]\u001b[39m\u001b[38;5;124m'\u001b[39m)))\u001b[38;5;241m.\u001b[39mclick()\n",
            "File \u001b[1;32m~\\miniconda3\\Lib\\site-packages\\selenium\\webdriver\\remote\\webdriver.py:353\u001b[0m, in \u001b[0;36mWebDriver.get\u001b[1;34m(self, url)\u001b[0m\n\u001b[0;32m    351\u001b[0m \u001b[38;5;28;01mdef\u001b[39;00m \u001b[38;5;21mget\u001b[39m(\u001b[38;5;28mself\u001b[39m, url: \u001b[38;5;28mstr\u001b[39m) \u001b[38;5;241m-\u001b[39m\u001b[38;5;241m>\u001b[39m \u001b[38;5;28;01mNone\u001b[39;00m:\n\u001b[0;32m    352\u001b[0m \u001b[38;5;250m    \u001b[39m\u001b[38;5;124;03m\"\"\"Loads a web page in the current browser session.\"\"\"\u001b[39;00m\n\u001b[1;32m--> 353\u001b[0m     \u001b[38;5;28;43mself\u001b[39;49m\u001b[38;5;241;43m.\u001b[39;49m\u001b[43mexecute\u001b[49m\u001b[43m(\u001b[49m\u001b[43mCommand\u001b[49m\u001b[38;5;241;43m.\u001b[39;49m\u001b[43mGET\u001b[49m\u001b[43m,\u001b[49m\u001b[43m \u001b[49m\u001b[43m{\u001b[49m\u001b[38;5;124;43m\"\u001b[39;49m\u001b[38;5;124;43murl\u001b[39;49m\u001b[38;5;124;43m\"\u001b[39;49m\u001b[43m:\u001b[49m\u001b[43m \u001b[49m\u001b[43murl\u001b[49m\u001b[43m}\u001b[49m\u001b[43m)\u001b[49m\n",
            "File \u001b[1;32m~\\miniconda3\\Lib\\site-packages\\selenium\\webdriver\\remote\\webdriver.py:344\u001b[0m, in \u001b[0;36mWebDriver.execute\u001b[1;34m(self, driver_command, params)\u001b[0m\n\u001b[0;32m    342\u001b[0m response \u001b[38;5;241m=\u001b[39m \u001b[38;5;28mself\u001b[39m\u001b[38;5;241m.\u001b[39mcommand_executor\u001b[38;5;241m.\u001b[39mexecute(driver_command, params)\n\u001b[0;32m    343\u001b[0m \u001b[38;5;28;01mif\u001b[39;00m response:\n\u001b[1;32m--> 344\u001b[0m     \u001b[38;5;28;43mself\u001b[39;49m\u001b[38;5;241;43m.\u001b[39;49m\u001b[43merror_handler\u001b[49m\u001b[38;5;241;43m.\u001b[39;49m\u001b[43mcheck_response\u001b[49m\u001b[43m(\u001b[49m\u001b[43mresponse\u001b[49m\u001b[43m)\u001b[49m\n\u001b[0;32m    345\u001b[0m     response[\u001b[38;5;124m\"\u001b[39m\u001b[38;5;124mvalue\u001b[39m\u001b[38;5;124m\"\u001b[39m] \u001b[38;5;241m=\u001b[39m \u001b[38;5;28mself\u001b[39m\u001b[38;5;241m.\u001b[39m_unwrap_value(response\u001b[38;5;241m.\u001b[39mget(\u001b[38;5;124m\"\u001b[39m\u001b[38;5;124mvalue\u001b[39m\u001b[38;5;124m\"\u001b[39m, \u001b[38;5;28;01mNone\u001b[39;00m))\n\u001b[0;32m    346\u001b[0m     \u001b[38;5;28;01mreturn\u001b[39;00m response\n",
            "File \u001b[1;32m~\\miniconda3\\Lib\\site-packages\\selenium\\webdriver\\remote\\errorhandler.py:229\u001b[0m, in \u001b[0;36mErrorHandler.check_response\u001b[1;34m(self, response)\u001b[0m\n\u001b[0;32m    227\u001b[0m         alert_text \u001b[38;5;241m=\u001b[39m value[\u001b[38;5;124m\"\u001b[39m\u001b[38;5;124malert\u001b[39m\u001b[38;5;124m\"\u001b[39m]\u001b[38;5;241m.\u001b[39mget(\u001b[38;5;124m\"\u001b[39m\u001b[38;5;124mtext\u001b[39m\u001b[38;5;124m\"\u001b[39m)\n\u001b[0;32m    228\u001b[0m     \u001b[38;5;28;01mraise\u001b[39;00m exception_class(message, screen, stacktrace, alert_text)  \u001b[38;5;66;03m# type: ignore[call-arg]  # mypy is not smart enough here\u001b[39;00m\n\u001b[1;32m--> 229\u001b[0m \u001b[38;5;28;01mraise\u001b[39;00m exception_class(message, screen, stacktrace)\n",
            "\u001b[1;31mNoSuchWindowException\u001b[0m: Message: no such window: target window already closed\nfrom unknown error: web view not found\n  (Session info: chrome=116.0.5845.180)\nStacktrace:\n\tGetHandleVerifier [0x00007FF6066352A2+57122]\n\t(No symbol) [0x00007FF6065AEA92]\n\t(No symbol) [0x00007FF60647E3AB]\n\t(No symbol) [0x00007FF60645E1B9]\n\t(No symbol) [0x00007FF6064DB417]\n\t(No symbol) [0x00007FF6064EE24F]\n\t(No symbol) [0x00007FF6064D6DB3]\n\t(No symbol) [0x00007FF6064AD2B1]\n\t(No symbol) [0x00007FF6064AE494]\n\tGetHandleVerifier [0x00007FF6068DEF82+2849794]\n\tGetHandleVerifier [0x00007FF606931D24+3189156]\n\tGetHandleVerifier [0x00007FF60692ACAF+3160367]\n\tGetHandleVerifier [0x00007FF6066C6D06+653702]\n\t(No symbol) [0x00007FF6065BA208]\n\t(No symbol) [0x00007FF6065B62C4]\n\t(No symbol) [0x00007FF6065B63F6]\n\t(No symbol) [0x00007FF6065A67A3]\n\tBaseThreadInitThunk [0x00007FFDC30F7C24+20]\n\tRtlUserThreadStart [0x00007FFDC384D721+33]\n"
          ]
        }
      ],
      "source": [
        "for url in df:\n",
        "    driver.get(url)\n",
        "    #click on calender\n",
        "    wait.until(EC.element_to_be_clickable((By.XPATH, '//*[@id=\"__next\"]/div[2]/div[1]/div[2]/div/div/div/div[2]/div/div[1]/div/button[1]'))).click()\n",
        "    #go to selecting year page\n",
        "    wait.until(EC.element_to_be_clickable((By.XPATH, '//*[@id=\"tippy-1\"]/div/div[1]/div/div/div[1]/div[1]/div/div/div[2]/div[1]/div[1]'))).click()\n",
        "    wait.until(EC.element_to_be_clickable((By.XPATH, '//*[@id=\"tippy-1\"]/div/div[1]/div/div/div[1]/div[1]/div/div/div[2]/div[1]/div[1]'))).click()\n",
        "    #select start year\n",
        "    wait.until(EC.element_to_be_clickable((By.XPATH, '//*[@id=\"tippy-1\"]/div/div[1]/div/div/div[1]/div[1]/div/div/div[2]/div[1]/div[1]/div[2]/span[6]'))).click()\n",
        "    #select start month\n",
        "    wait.until(EC.element_to_be_clickable((By.XPATH, '//*[@id=\"tippy-1\"]/div/div[1]/div/div/div[1]/div[1]/div/div/div[2]/div[1]/div[1]/div[1]/span[8]'))).click()\n",
        "    #select start day\n",
        "    wait.until(EC.element_to_be_clickable((By.XPATH, '//*[@id=\"tippy-1\"]/div/div[1]/div/div/div[1]/div[1]/div/div/div[2]/div[2]/div[4]/div[5]'))).click()\n",
        "    #go to selecting year page\n",
        "    wait.until(EC.element_to_be_clickable((By.XPATH, '//*[@id=\"tippy-1\"]/div/div[1]/div/div/div[1]/div[1]/div/div/div[2]/div[1]/div[1]'))).click()\n",
        "    wait.until(EC.element_to_be_clickable((By.XPATH, '//*[@id=\"tippy-1\"]/div/div[1]/div/div/div[1]/div[1]/div/div/div[2]/div[1]/div[1]'))).click()\n",
        "    #select end year\n",
        "    wait.until(EC.element_to_be_clickable((By.XPATH, '//*[@id=\"tippy-1\"]/div/div[1]/div/div/div[1]/div[1]/div/div/div[2]/div[1]/div[1]/div[2]/span[8]'))).click()\n",
        "    #select end month\n",
        "    wait.until(EC.element_to_be_clickable((By.XPATH, '//*[@id=\"tippy-1\"]/div/div[1]/div/div/div[1]/div[1]/div/div/div[2]/div[1]/div[1]/div[1]/span[8]'))).click()\n",
        "    #select end day\n",
        "    wait.until(EC.element_to_be_clickable((By.XPATH, '//*[@id=\"tippy-1\"]/div/div[1]/div/div/div[1]/div[1]/div/div/div[2]/div[2]/div[4]/div[6]'))).click()\n",
        "    wait.until(EC.element_to_be_clickable((By.XPATH, '//*[@id=\"tippy-1\"]/div/div[1]/div/div/div[2]/span/button'))).click()\n",
        "    #waiting for the site to load csv and then wait for complete download\n",
        "    sleep(sleeptime*5)\n",
        "    wait.until(EC.presence_of_element_located((By.XPATH, '//*[@id=\"__next\"]/div[2]/div[1]/div[2]/div/div/div/div[2]/div/div[1]/div/button[2]'))).click()\n",
        "    sleep(sleeptime*5)"
      ]
    },
    {
      "cell_type": "code",
      "execution_count": null,
      "id": "d0cabc9f-d7b7-48e1-b944-930de609d4ab",
      "metadata": {
        "id": "d0cabc9f-d7b7-48e1-b944-930de609d4ab"
      },
      "outputs": [],
      "source": []
    }
  ],
  "metadata": {
    "kernelspec": {
      "display_name": "Python 3 (ipykernel)",
      "language": "python",
      "name": "python3"
    },
    "language_info": {
      "codemirror_mode": {
        "name": "ipython",
        "version": 3
      },
      "file_extension": ".py",
      "mimetype": "text/x-python",
      "name": "python",
      "nbconvert_exporter": "python",
      "pygments_lexer": "ipython3",
      "version": "3.11.4"
    },
    "colab": {
      "provenance": []
    }
  },
  "nbformat": 4,
  "nbformat_minor": 5
}