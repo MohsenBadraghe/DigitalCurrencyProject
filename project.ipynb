{
 "cells": [
  {
   "cell_type": "markdown",
   "id": "91a97435",
   "metadata": {},
   "source": [
    "<h1>Scraping</h1>"
   ]
  },
  {
   "cell_type": "code",
   "execution_count": 1,
   "id": "cbf5b99f",
   "metadata": {},
   "outputs": [],
   "source": [
    "import requests\n",
    "from bs4 import BeautifulSoup\n",
    "import pandas as pd"
   ]
  },
  {
   "cell_type": "code",
   "execution_count": 68,
   "id": "054a7b85",
   "metadata": {},
   "outputs": [],
   "source": [
    "URL = \"https://coinmarketcap.com/historical/20230825/\"\n",
    "page = requests.get(URL)\n",
    "soup = BeautifulSoup(page.content, 'html.parser')\n",
    "soup.body.prettify()\n",
    "AllRows = soup.find_all('tr')\n",
    "MainLinks = []\n",
    "Titles = []\n",
    "for i in range(3 , 203):\n",
    "  cur = AllRows[i].find('a')\n",
    "  MainLinks.append(f\"https://coinmarketcap.com{cur['href']}\")\n",
    "  try:\n",
    "    Titles.append(cur['title'])\n",
    "  except:\n",
    "    Titles.append(cur.contents[0])\n",
    "SymBols = []\n",
    "HystLinks = []\n",
    "for i in range(0 , 200):\n",
    "  url = MainLinks[i]\n",
    "  p = requests.get(url)\n",
    "  bs = BeautifulSoup(p.content , 'html.parser')\n",
    "  SymBols.append(bs.find('span' , {'data-role':\"coin-symbol\"}).contents[0])\n",
    "  txt = str(bs)\n",
    "  pos = txt.find(\"See historical\")\n",
    "  LinkTxt = txt[pos-200:pos]\n",
    "  pos2 = LinkTxt.find(\"href\")\n",
    "  Hlink = LinkTxt[pos2 + 6:]\n",
    "  Hlink = Hlink[ : Hlink.find(\" \") - 1]\n",
    "  HystLinks.append( f\"https://coinmarketcap.com{Hlink}\" )\n",
    "GitHubLinks = []\n",
    "for i in range(0 , 200):\n",
    "  url = MainLinks[i]\n",
    "  p = requests.get(url)\n",
    "  bs = BeautifulSoup(p.content , 'html.parser')\n",
    "  txt = str(bs)\n",
    "  pos = txt.find(\"github.com\")\n",
    "  txt2 = txt[pos:]\n",
    "  pos2 = txt2.find('\"')\n",
    "  pos3 = txt2.find(')')\n",
    "  pos2 = min(pos2 , pos3)\n",
    "  gitlink = txt2[:pos2]\n",
    "  GitHubLinks.append(gitlink)\n",
    "\n",
    "df = pd.DataFrame(list(zip(Titles, SymBols , MainLinks , HystLinks , GitHubLinks )),\n",
    "               columns =['Name', 'Symbol' , 'MainLink' , 'HistoricalLink' , 'GitHubLink'])\n",
    "df.to_csv(\"FirstTable.csv\")"
   ]
  },
  {
   "cell_type": "code",
   "execution_count": 69,
   "id": "a0fbd35d",
   "metadata": {},
   "outputs": [],
   "source": [
    "Tags = []\n",
    "for i in range(0 , 200):\n",
    "  url = MainLinks[i]\n",
    "  p = requests.get(url)\n",
    "  bs = BeautifulSoup(p.content , 'html.parser')\n",
    "  temp = bs.find_all('div' , {'class' : \"sc-16891c57-0 sc-b7faf77f-0 jaPKUl\"})\n",
    "  taglist = []\n",
    "  if len(temp) < 1:\n",
    "    Tags.append(taglist)\n",
    "    continue\n",
    "  for x in temp[0]:\n",
    "    taglist.append(x.text)\n",
    "  taglist.pop()\n",
    "  Tags.append(taglist)\n"
   ]
  },
  {
   "cell_type": "code",
   "execution_count": 2,
   "id": "7da149bf",
   "metadata": {},
   "outputs": [
    {
     "name": "stderr",
     "output_type": "stream",
     "text": [
      "The chromedriver version (115.0.5790.170) detected in PATH at c:\\Users\\Mohsen\\Quera\\DigitalCurrencyProject\\chromedriver.exe might not be compatible with the detected chrome version (116.0.5845.141); currently, chromedriver 116.0.5845.96 is recommended for chrome 116.*, so it is advised to delete the driver in PATH and retry\n"
     ]
    }
   ],
   "source": [
    "import os\n",
    "from selenium import webdriver\n",
    "from selenium.webdriver.common.keys import Keys\n",
    "from selenium.webdriver.common.by import By\n",
    "from selenium.webdriver.support.wait import WebDriverWait\n",
    "from selenium.webdriver.support import expected_conditions as EC\n",
    "chrome_options = webdriver.ChromeOptions()\n",
    "base_url = os.getcwd()\n",
    "prefs = {'download.default_directory' : base_url + '\\\\HistoricalData'}\n",
    "chrome_options.add_experimental_option('prefs', prefs)\n",
    "driver = webdriver.Chrome(chrome_options)\n",
    "driver.maximize_window()\n",
    "wait = WebDriverWait(driver, 10)"
   ]
  },
  {
   "cell_type": "code",
   "execution_count": 67,
   "id": "d4f7e73f",
   "metadata": {},
   "outputs": [],
   "source": [
    "historical_links = df['HistoricalLink']\n",
    "\n",
    "for url in historical_links:\n",
    "    driver.get(url)\n",
    "    wait.until(EC.element_to_be_clickable((By.XPATH, '//*[@id=\"__next\"]/div[2]/div[1]/div[2]/div/div/div/div[2]/div/div[1]/div/button[1]'))).click()\n",
    "    wait.until(EC.element_to_be_clickable((By.XPATH, '//*[@id=\"tippy-1\"]/div/div[1]/div/div/div[1]/div[1]/div/div/div[2]/div[1]/div[1]'))).click()\n",
    "    wait.until(EC.element_to_be_clickable((By.XPATH, '//*[@id=\"tippy-1\"]/div/div[1]/div/div/div[1]/div[1]/div/div/div[2]/div[1]/div[1]'))).click()\n",
    "    wait.until(EC.element_to_be_clickable((By.XPATH, '//*[@id=\"tippy-1\"]/div/div[1]/div/div/div[1]/div[1]/div/div/div[2]/div[1]/div[1]/div[2]/span[6]'))).click()\n",
    "    wait.until(EC.element_to_be_clickable((By.XPATH, '//*[@id=\"tippy-1\"]/div/div[1]/div/div/div[1]/div[1]/div/div/div[2]/div[1]/div[1]/div[1]/span[8]'))).click()\n",
    "    wait.until(EC.element_to_be_clickable((By.XPATH, '//*[@id=\"tippy-1\"]/div/div[1]/div/div/div[1]/div[1]/div/div/div[2]/div[2]/div[4]/div[5]'))).click()\n",
    "    wait.until(EC.element_to_be_clickable((By.XPATH, '//*[@id=\"tippy-1\"]/div/div[1]/div/div/div[1]/div[1]/div/div/div[2]/div[1]/div[1]'))).click()\n",
    "    wait.until(EC.element_to_be_clickable((By.XPATH, '//*[@id=\"tippy-1\"]/div/div[1]/div/div/div[1]/div[1]/div/div/div[2]/div[1]/div[1]'))).click()\n",
    "    wait.until(EC.element_to_be_clickable((By.XPATH, '//*[@id=\"tippy-1\"]/div/div[1]/div/div/div[1]/div[1]/div/div/div[2]/div[1]/div[1]/div[2]/span[8]'))).click()\n",
    "    wait.until(EC.element_to_be_clickable((By.XPATH, '//*[@id=\"tippy-1\"]/div/div[1]/div/div/div[1]/div[1]/div/div/div[2]/div[1]/div[1]/div[1]/span[8]'))).click()\n",
    "    wait.until(EC.element_to_be_clickable((By.XPATH, '//*[@id=\"tippy-1\"]/div/div[1]/div/div/div[1]/div[1]/div/div/div[2]/div[2]/div[4]/div[6]'))).click()\n",
    "    wait.until(EC.element_to_be_clickable((By.XPATH, '//*[@id=\"tippy-1\"]/div/div[1]/div/div/div[2]/span/button'))).click()\n",
    "    wait.until(EC.visibility_of_element_located((By.XPATH, '//tbody/tr[2]')))\n",
    "    wait.until(EC.element_to_be_clickable((By.XPATH, '//*[@id=\"__next\"]/div[2]/div[1]/div[2]/div/div/div/div[2]/div/div[1]/div/button[2]'))).click()"
   ]
  },
  {
   "cell_type": "code",
   "execution_count": null,
   "id": "6964e802",
   "metadata": {},
   "outputs": [],
   "source": []
  },
  {
   "cell_type": "code",
   "execution_count": 124,
   "id": "fe79ee30",
   "metadata": {},
   "outputs": [],
   "source": [
    "# Function to parse HTML & return BeautifulSoup object\n",
    "def HtmlParser(url):\n",
    "    import requests\n",
    "    from bs4 import BeautifulSoup\n",
    "    page = requests.get(url)\n",
    "    bs = BeautifulSoup(page.content, 'html.parser')\n",
    "    return bs"
   ]
  },
  {
   "cell_type": "code",
   "execution_count": 229,
   "id": "13cbf660",
   "metadata": {},
   "outputs": [],
   "source": [
    "# Get Github Links and replace nan values with empty string\n",
    "githubs = pd.read_csv('FirstTable.csv')['GitHubLink']\n",
    "githubs.fillna('',inplace=True)\n",
    "# define lists to store scraped data\n",
    "curr_lang = []\n",
    "curr_contributors = []\n",
    "# start scraping\n",
    "for i in range(len(githubs)):\n",
    "    if githubs[i] != '':\n",
    "        # Get Main Github url for Currency\n",
    "        url_split = githubs[i].split('/',2)\n",
    "        text = HtmlParser('https://' + url_split[0] + '/' + url_split[1])\n",
    "        # Scrape Contributors\n",
    "        Contributors = []\n",
    "        people_elems = text.findAll('a',class_='member-avatar')\n",
    "        for element in people_elems:\n",
    "            Contributors.append(element['href'])\n",
    "        # Add Contributors's Github to list with CurrencyId\n",
    "        for contributor in Contributors:\n",
    "            user_git = 'https://github.com' + contributor\n",
    "            curr_contributors.append((i+1,user_git))\n",
    "        # Scrape Languages\n",
    "        languages = []\n",
    "        top_lang = text.find('h4',string='Top languages')\n",
    "        if top_lang != None:\n",
    "            top_lang_elems = top_lang.parent()\n",
    "        for elem in top_lang_elems:\n",
    "            lang_elem = elem.find('span',{'itemprop':\"programmingLanguage\"})\n",
    "            if lang_elem != None:\n",
    "                lang = lang_elem.text\n",
    "                if lang not in languages:\n",
    "                    languages.append(lang)\n",
    "        # Add Languages to list with CurrencyId\n",
    "        for lang in languages:\n",
    "           curr_lang.append((i+1,lang)) \n",
    "\n",
    "# Convert Lists To Dataframe\n",
    "CurrencyLanguages = pd.DataFrame(curr_lang,columns=['CurrencyId','Language'])\n",
    "CurrencyContributors = pd.DataFrame(curr_contributors,columns=['CurrencyId','Contributor'])\n",
    "# Save Dataframes as csv\n",
    "CurrencyLanguages.to_csv('CurrencyLanguages.csv')\n",
    "CurrencyContributors.to_csv('CurrencyContributors.csv')"
   ]
  },
  {
   "cell_type": "code",
   "execution_count": 70,
   "id": "9f6a2dce",
   "metadata": {},
   "outputs": [],
   "source": [
    "# create List of Tags with CurrencyId from Scraped Data\n",
    "TagList = []\n",
    "for i in range(len(Tags)):\n",
    "    tags = Tags[i]\n",
    "    for j in range(len(tags)):\n",
    "        TagList.append((i+1,tags[j]))\n",
    "# create Dataframe from TagList & save it as csv file\n",
    "tags = pd.DataFrame(TagList,columns=['CurrencyId','Tag'])\n",
    "tags.to_csv('Tags.csv')"
   ]
  },
  {
   "cell_type": "markdown",
   "id": "856dd0b2",
   "metadata": {},
   "source": [
    "<h1>Database</h1>"
   ]
  },
  {
   "cell_type": "code",
   "execution_count": 71,
   "id": "3c0e560d",
   "metadata": {},
   "outputs": [],
   "source": [
    "# Libraries to install in the case of need\n",
    "\n",
    "#!pip install sqlalchemy\n",
    "#!pip install pymysql\n",
    "#!pip install sqlalchemy-utils"
   ]
  },
  {
   "cell_type": "code",
   "execution_count": 2,
   "id": "1d728cc2",
   "metadata": {},
   "outputs": [],
   "source": [
    "from sqlalchemy import create_engine,ForeignKey, MetaData, Table, Column, Integer, String,DECIMAL,TIMESTAMP,Insert,DateTime\n",
    "from sqlalchemy_utils import create_database, database_exists\n",
    "from sqlalchemy.ext.declarative import declarative_base\n",
    "from sqlalchemy.orm import Session"
   ]
  },
  {
   "cell_type": "code",
   "execution_count": 3,
   "id": "57a1a41c",
   "metadata": {},
   "outputs": [],
   "source": [
    "# Params to build Connection String\n",
    "user = 'root'\n",
    "password = 'admin'\n",
    "host = 'localhost'\n",
    "port = 3306\n",
    "database = 'DigitalCurrency'\n",
    "# Connection String\n",
    "url = \"mysql+pymysql://{0}:{1}@{2}:{3}/{4}\".format(\n",
    "\t\t\tuser, password, host, port,database\n",
    "\t\t)\n",
    "# CONNECT TO THE MYSQL DATABASE \n",
    "engine = create_engine(\n",
    "\t\turl=\"mysql+pymysql://{0}:{1}@{2}:{3}/{4}\".format(\n",
    "\t\t\tuser, password, host, port,database\n",
    "\t\t))\n",
    "# Create DB if not exists\n",
    "if not database_exists(url):\n",
    "    create_database(url)"
   ]
  },
  {
   "cell_type": "code",
   "execution_count": 4,
   "id": "1f4e681e",
   "metadata": {},
   "outputs": [
    {
     "name": "stderr",
     "output_type": "stream",
     "text": [
      "C:\\Users\\Mohsen\\AppData\\Local\\Temp\\ipykernel_20416\\3775690541.py:2: MovedIn20Warning: The ``declarative_base()`` function is now available as sqlalchemy.orm.declarative_base(). (deprecated since: 2.0) (Background on SQLAlchemy 2.0 at: https://sqlalche.me/e/b8d9)\n",
      "  Base = declarative_base()\n"
     ]
    }
   ],
   "source": [
    "# Define Tables by declarative base method\n",
    "meta = MetaData()\n",
    "Base = declarative_base()\n",
    "\n",
    "class Currency(Base):\n",
    "   __tablename__ = 'Currency'\n",
    "\n",
    "   CurrencyId = Column(Integer, primary_key = True, autoincrement = True, nullable = False)\n",
    "   Name = Column(String(250),nullable=False)\n",
    "   Symbol = Column(String(250))\n",
    "   Rank = Column(Integer)\n",
    "   MainLink = Column(String(250))\n",
    "   HistoricalLink = Column(String(250))\n",
    "   GithubLink = Column(String(250))\n",
    "\n",
    "class Tag(Base):\n",
    "   __tablename__ = 'Tag'\n",
    "\n",
    "   TagId = Column(Integer, primary_key = True, autoincrement = True, nullable = False)\n",
    "   Name = Column(String(250),nullable=False)\n",
    "   \n",
    "\n",
    "class CurrencyTag(Base):\n",
    "   __tablename__ = 'CurrencyTag'\n",
    "\n",
    "   CurrencyTagId = Column(Integer, primary_key = True, autoincrement = True, nullable = False)\n",
    "   TagId = Column(Integer,ForeignKey('Tag.TagId'),nullable=False)\n",
    "   CurrencyId = Column(Integer,ForeignKey('Currency.CurrencyId'),nullable=False)\n",
    "\n",
    "\n",
    "class CurrencyData(Base):\n",
    "   __tablename__ = 'CurrencyData'\n",
    "\n",
    "   CurrencyDataId = Column(Integer, primary_key = True, autoincrement = True, nullable = False)\n",
    "   CurrencyId = Column(Integer,ForeignKey('Currency.CurrencyId'),nullable=False)\n",
    "   TimeOpen = Column(DateTime)\n",
    "   TimeClose = Column(DateTime)\n",
    "   TimeHigh = Column(DateTime)\n",
    "   TimeLow = Column(DateTime)\n",
    "   Open = Column(DECIMAL(20,14))\n",
    "   High = Column(DECIMAL(20,14))\n",
    "   Low = Column(DECIMAL(20,14))\n",
    "   Close = Column(DECIMAL(20,14))\n",
    "   Volume = Column(DECIMAL(18,4))\n",
    "   MarketCap = Column(DECIMAL(18,4))\n",
    "\n",
    "\n",
    "\n",
    "class Language(Base):\n",
    "   __tablename__ = 'Language'\n",
    "\n",
    "   LanguageId = Column(Integer, primary_key = True, autoincrement = True, nullable = False)\n",
    "   Name = Column(String(250),nullable=False)\n",
    "   \n",
    "\n",
    "class CurrencyLanguage(Base):\n",
    "   __tablename__ = 'CurrencyLanguage'\n",
    "\n",
    "   CurrencyLanguageId = Column(Integer, primary_key = True, autoincrement = True, nullable = False)\n",
    "   LanguageId = Column(Integer,ForeignKey('Language.LanguageId'),nullable=False)\n",
    "   CurrencyId = Column(Integer,ForeignKey('Currency.CurrencyId'),nullable=False)   \n",
    "\n",
    "\n",
    "class CurrencyContributor(Base):\n",
    "   __tablename__ = 'CurrencyContributor'\n",
    "\n",
    "   CurrencyContributorId = Column(Integer, primary_key = True, autoincrement = True, nullable = False)\n",
    "   CurrencyId = Column(Integer,ForeignKey('Currency.CurrencyId'),nullable=False)   \n",
    "   Contributor = Column(String(250))\n",
    "\n",
    "# Create Tables\n",
    "Base.metadata.create_all(engine)\n",
    "   "
   ]
  },
  {
   "cell_type": "code",
   "execution_count": 6,
   "id": "7730152f",
   "metadata": {},
   "outputs": [],
   "source": [
    "# Read currencies & fill nan values\n",
    "currencies = pd.read_csv('FirstTable.csv')\n",
    "currencies['GitHubLink'].fillna('',inplace=True)"
   ]
  },
  {
   "cell_type": "code",
   "execution_count": 7,
   "id": "336614f4",
   "metadata": {},
   "outputs": [],
   "source": [
    "# Insert Currencies To DB\n",
    "session = Session(engine)\n",
    "for i in range(len(currencies)):\n",
    "  session.add(Currency(Name=currencies.loc[i][1], Symbol=currencies.loc[i][2],\n",
    "            Rank=(currencies.loc[i][0] + 1), MainLink=currencies.loc[i][3],\n",
    "              HistoricalLink=currencies.loc[i][4], GithubLink=currencies.loc[i][5]))\n",
    "session.commit()"
   ]
  },
  {
   "cell_type": "code",
   "execution_count": 8,
   "id": "5e314278",
   "metadata": {},
   "outputs": [],
   "source": [
    "# build file's prefix and sufix url that we'll use to read currencies's data\n",
    "prefix_url = base_url + '\\\\HistoricalData\\\\'\n",
    "suffix_url = '_8_25_2022-8_25_2023_historical_data_coinmarketcap.csv'\n",
    "\n",
    "# Insert Currencies's Data To DB\n",
    "session = Session(engine)\n",
    "for j in range(len(currencies)):\n",
    "    curr_name = currencies.loc[j][1]\n",
    "    data = pd.read_csv(prefix_url + curr_name + suffix_url,sep=';')\n",
    "    # Get CurrencyId from DB\n",
    "    curr_id = session.query(Currency).filter(Currency.Name == curr_name).first().CurrencyId\n",
    "    for i in range(len(data)):\n",
    "        session.add(CurrencyData(CurrencyId = curr_id\n",
    "                                , TimeOpen = pd.to_datetime(data.loc[i][0].replace('T',' ').split('.')[0])\n",
    "                                , TimeClose = pd.to_datetime(data.loc[i][1].replace('T',' ').split('.')[0])\n",
    "                                , TimeHigh = pd.to_datetime(data.loc[i][2].replace('T',' ').split('.')[0])\n",
    "                                , TimeLow = pd.to_datetime(data.loc[i][3].replace('T',' ').split('.')[0])\n",
    "                                , Open = data.loc[i][4]\n",
    "                                , High = data.loc[i][5]\n",
    "                                , Low = data.loc[i][6]\n",
    "                                , Close = data.loc[i][7]\n",
    "                                , Volume = data.loc[i][8]\n",
    "                                , MarketCap = data.loc[i][9]))\n",
    "session.commit()"
   ]
  },
  {
   "cell_type": "code",
   "execution_count": 9,
   "id": "a818e72d",
   "metadata": {},
   "outputs": [],
   "source": [
    "# Read Tags\n",
    "tags = pd.read_csv('Tags.csv')"
   ]
  },
  {
   "cell_type": "code",
   "execution_count": null,
   "id": "4d484e77",
   "metadata": {},
   "outputs": [],
   "source": [
    "# Get unique tags for tag table\n",
    "tag_names = tags['Tag'].unique()\n",
    "# Insert tags to DB\n",
    "session = Session(engine)\n",
    "for i in range(len(tag_names)):\n",
    "    session.add(Tag(Name=tag_names[i]))\n",
    "session.commit()"
   ]
  },
  {
   "cell_type": "code",
   "execution_count": 10,
   "id": "cc1ef500",
   "metadata": {},
   "outputs": [],
   "source": [
    "# Insert Currency Tags to DB\n",
    "session = Session(engine)\n",
    "\n",
    "for i in range(len(tags)):\n",
    "    tag_name = tags.loc[i]['Tag']\n",
    "    # Get TagId from DB\n",
    "    tag_id = session.query(Tag).filter(Tag.Name == tag_name).first().TagId\n",
    "    session.add(CurrencyTag(TagId = tag_id,CurrencyId = tags.loc[i]['CurrencyId']))\n",
    "    \n",
    "session.commit()"
   ]
  },
  {
   "cell_type": "code",
   "execution_count": 5,
   "id": "67335345",
   "metadata": {},
   "outputs": [],
   "source": [
    "# Read CurrencyLanguages Data from csv\n",
    "languages_data = pd.read_csv('CurrencyLanguages.csv')"
   ]
  },
  {
   "cell_type": "code",
   "execution_count": 236,
   "id": "c1c3cf4b",
   "metadata": {},
   "outputs": [],
   "source": [
    "# Get Unique Languages\n",
    "unique_languages = languages_data['Language'].unique()\n",
    "# Insert Languages To DB\n",
    "session = Session(engine)\n",
    "for i in range(len(unique_languages)):\n",
    "    session.add(Language(Name=unique_languages[i]))\n",
    "session.commit()"
   ]
  },
  {
   "cell_type": "code",
   "execution_count": 6,
   "id": "34f7c10b",
   "metadata": {},
   "outputs": [],
   "source": [
    "# Insert Currency Languages To DB\n",
    "session = Session(engine)\n",
    "for i in range(len(languages_data)):\n",
    "    # Get LanguageId from DB\n",
    "    lang_name = languages_data.loc[i]['Language']\n",
    "    lang_id = session.query(Language).filter(Language.Name == lang_name).first().LanguageId\n",
    "    session.add(CurrencyLanguage(LanguageId = lang_id, CurrencyId = languages_data.loc[i]['CurrencyId']))\n",
    "session.commit()"
   ]
  },
  {
   "cell_type": "code",
   "execution_count": 7,
   "id": "b392fc18",
   "metadata": {},
   "outputs": [],
   "source": [
    "# Read CurrencyContributors Data from csv\n",
    "contributors_data = pd.read_csv('CurrencyContributors.csv')"
   ]
  },
  {
   "cell_type": "code",
   "execution_count": 8,
   "id": "767c5a44",
   "metadata": {},
   "outputs": [],
   "source": [
    "# Insert Currency Contributors To DB\n",
    "session = Session(engine)\n",
    "for i in range(len(contributors_data)):\n",
    "    session.add(CurrencyContributor(CurrencyId = contributors_data.loc[i]['CurrencyId']\n",
    "                                    ,Contributor = contributors_data.loc[i]['Contributor']))\n",
    "session.commit()"
   ]
  }
 ],
 "metadata": {
  "kernelspec": {
   "display_name": "Python 3 (ipykernel)",
   "language": "python",
   "name": "python3"
  },
  "language_info": {
   "codemirror_mode": {
    "name": "ipython",
    "version": 3
   },
   "file_extension": ".py",
   "mimetype": "text/x-python",
   "name": "python",
   "nbconvert_exporter": "python",
   "pygments_lexer": "ipython3",
   "version": "3.9.17"
  }
 },
 "nbformat": 4,
 "nbformat_minor": 5
}
